{
 "cells": [
  {
   "cell_type": "code",
   "execution_count": 1,
   "metadata": {},
   "outputs": [],
   "source": [
    "%load_ext autoreload\n",
    "%autoreload 2"
   ]
  },
  {
   "cell_type": "code",
   "execution_count": null,
   "metadata": {},
   "outputs": [],
   "source": [
    "import numpy as np\n",
    "import matplotlib.pyplot as plt\n",
    "\n",
    "# Generate input data\n",
    "np.random.seed(42)\n",
    "n_samples = 1000\n",
    "x = np.linspace(0, 10, n_samples)\n",
    "\n",
    "\n",
    "# Create correlated noise with increasing magnitude\n",
    "def scale_cov_matrix(x, base_cov, scale_factor=0.1):\n",
    "    return base_cov * (1 + scale_factor * x)\n",
    "\n",
    "\n",
    "cov_matrix = np.array([[0.25, 0.15, 0.1], [0.15, 0.49, 0.2], [0.1, 0.2, 0.36]])\n",
    "\n",
    "correlated_noise = np.array(\n",
    "    [\n",
    "        np.random.multivariate_normal(\n",
    "            mean=[0, 0, 0], cov=scale_cov_matrix(xi, cov_matrix)\n",
    "        )\n",
    "        for xi in x\n",
    "    ]\n",
    ")\n",
    "\n",
    "# Generate three dependent variables with smooth, non-monotonic relationships and correlated noise\n",
    "y1_ = 2 * np.sin(x) + 0.5 * x\n",
    "y1 = y1_ + correlated_noise[:, 0]\n",
    "y2_ = 3 * np.cos(0.5 * x) + 0.3 * x**2\n",
    "y2 = y2_ + correlated_noise[:, 1]\n",
    "y3_ = 1.5 * np.sin(0.7 * x) * np.cos(0.3 * x) + 0.2 * x\n",
    "y3 = y3_ + correlated_noise[:, 2]\n",
    "# Combine the data\n",
    "data = np.column_stack((x, y1, y2, y3))\n",
    "real_data = np.column_stack((x, y1_, y2_, y3_))\n",
    "\n",
    "# Plot the relationships\n",
    "fig, axs = plt.subplots(3, 1, figsize=(10, 15))\n",
    "fig.suptitle(\"Relationships between input and outputs (with correlated noise)\")\n",
    "\n",
    "for i, ax in enumerate(axs):\n",
    "    ax.scatter(x, data[:, i + 1], alpha=0.5)\n",
    "    ax.set_xlabel(\"Input\")\n",
    "    ax.set_ylabel(f\"Output {i+1}\")\n",
    "\n",
    "plt.tight_layout()\n",
    "plt.show()\n",
    "\n",
    "print(\"Data shape:\", data.shape)\n",
    "print(\"First few rows of the data:\")\n",
    "print(data[:5])\n",
    "\n",
    "# Plot correlation matrix of the outputs\n",
    "correlation_matrix = np.corrcoef(data[:, 1:].T)\n",
    "plt.figure(figsize=(8, 6))\n",
    "plt.imshow(correlation_matrix, cmap=\"coolwarm\", vmin=-1, vmax=1)\n",
    "plt.colorbar()\n",
    "plt.title(\"Correlation Matrix of Outputs\")\n",
    "plt.xticks(range(3), [\"y1\", \"y2\", \"y3\"])\n",
    "plt.yticks(range(3), [\"y1\", \"y2\", \"y3\"])\n",
    "for i in range(3):\n",
    "    for j in range(3):\n",
    "        plt.text(j, i, f\"{correlation_matrix[i, j]:.2f}\", ha=\"center\", va=\"center\")\n",
    "plt.tight_layout()\n",
    "plt.show()"
   ]
  },
  {
   "cell_type": "code",
   "execution_count": null,
   "metadata": {},
   "outputs": [],
   "source": [
    "import lightgbm as lgb\n",
    "from lightgbmlss.model import LightGBMLSS\n",
    "from lightgbmlss.utils import create_mv_dataset\n",
    "from lightgbmlss.distributions.Gaussian import MultivariateGaussian\n",
    "\n",
    "# Create lightgbm dataset\n",
    "dtrain = create_mv_dataset(\n",
    "    data[:, 0].reshape(-1, 1),\n",
    "    data[:, 1:],\n",
    ")\n",
    "\n",
    "# Create lightgbm lss model and train\n",
    "lgblss = LightGBMLSS(MultivariateGaussian(n_dim=3))\n",
    "lgblss.train(params={\"learning_rate\": 0.1, \"num_iterations\": 10}, train_set=dtrain)\n",
    "\n",
    "# Make predictions\n",
    "preds = lgblss.predict(data[:, 0].reshape(-1, 1))\n",
    "preds\n"
   ]
  },
  {
   "cell_type": "markdown",
   "metadata": {},
   "source": [
    "Todo:\n",
    "\n",
    "1. Get the loss values of:\n",
    "   1. starting values\n",
    "   2. predictions after 1-10 iterations\n",
    "   3. The known starting values"
   ]
  },
  {
   "cell_type": "code",
   "execution_count": null,
   "metadata": {},
   "outputs": [],
   "source": [
    "import torch\n",
    "from torch.distributions.multivariate_normal import MultivariateNormal\n",
    "\n",
    "dist = MultivariateNormal(\n",
    "    loc=torch.tensor(preds.iloc[:, :3].to_numpy()),\n",
    "    scale_tril=torch.tensor(preds.iloc[:, 3:].to_numpy().reshape(-1, 3, 3, order=\"C\")),\n",
    ")\n",
    "loss = -torch.nansum(dist.log_prob(torch.tensor(data[:, 1:])))\n",
    "loss\n"
   ]
  },
  {
   "cell_type": "code",
   "execution_count": null,
   "metadata": {},
   "outputs": [],
   "source": [
    "\n",
    "\n",
    "dist = MultivariateNormal(\n",
    "    loc=torch.tensor(real_data[:, 1:]),\n",
    "    covariance_matrix=torch.tensor(np.tile(cov_matrix, (n_samples, 1, 1))),\n",
    ")\n",
    "loss = -torch.nansum(dist.log_prob(torch.tensor(data[:, 1:])))\n",
    "loss"
   ]
  },
  {
   "cell_type": "code",
   "execution_count": null,
   "metadata": {},
   "outputs": [],
   "source": [
    "def get_loss(params):\n",
    "\n",
    "    # Create lightgbm lss model and train\n",
    "    lgblss = LightGBMLSS(MultivariateGaussian(n_dim=3))\n",
    "    lgblss.train(params=params, train_set=dtrain)\n",
    "    preds = lgblss.predict(data[:, 0].reshape(-1, 1))\n",
    "    dist = MultivariateNormal(\n",
    "        loc=torch.tensor(preds.iloc[:, :3].to_numpy()),\n",
    "        scale_tril=torch.tensor(preds.iloc[:, 3:].to_numpy().reshape(-1, 3, 3, order=\"C\")),\n",
    "    )\n",
    "    loss = -torch.nansum(dist.log_prob(torch.tensor(data[:, 1:])))\n",
    "    return loss\n",
    "print(get_loss({\"learning_rate\": 1e-10, \"num_iterations\": 1}))\n",
    "print(get_loss({\"learning_rate\": 0.01, \"num_iterations\": 10}))\n",
    "print(get_loss({\"learning_rate\": 0.01, \"num_iterations\": 20}))\n",
    "print(get_loss({\"learning_rate\": 0.01, \"num_iterations\": 50}))\n",
    "print(get_loss({\"learning_rate\": 0.01, \"num_iterations\": 100}))\n",
    "print(get_loss({\"learning_rate\": 0.1, \"num_iterations\": 1000}))\n",
    "\n"
   ]
  },
  {
   "cell_type": "code",
   "execution_count": null,
   "metadata": {},
   "outputs": [],
   "source": [
    "data[:, 1:]"
   ]
  },
  {
   "cell_type": "code",
   "execution_count": null,
   "metadata": {},
   "outputs": [],
   "source": [
    "fig, axes = plt.subplots(3, 1, figsize=(12, 18), sharex=True)\n",
    "fig.suptitle(\"LightGBMLSS MV Gaussian Predictions\", fontsize=16)\n",
    "\n",
    "# Compute covariance matrices\n",
    "st = preds.iloc[:, 3:].to_numpy().reshape(-1, 3, 3, order=\"C\")\n",
    "cov = np.zeros_like(st)\n",
    "for i in range(st.shape[0]):\n",
    "    cov[i] = st[i] @ st[i].T\n",
    "\n",
    "for i in range(3):\n",
    "    ax = axes[i]\n",
    "    \n",
    "    mean = preds[f\"loc_{i}\"]\n",
    "    std = np.sqrt(cov[:, i, i])\n",
    "    lower = mean - 1.96 * std\n",
    "    upper = mean + 1.96 * std\n",
    "    \n",
    "    ax.plot(data[:, [0]], mean, label=\"Mean\")\n",
    "    ax.fill_between(data[:, 0], lower, upper, alpha=0.3, label=\"95% CI\")\n",
    "    ax.scatter(data[:, 0], data[:, i+1], alpha=0.5, label=\"Data\")\n",
    "    ax.set_ylabel(f\"Y{i+1}\")\n",
    "    ax.legend()\n",
    "    ax.grid(True)\n",
    "\n",
    "axes[-1].set_xlabel(\"Input\")\n",
    "plt.tight_layout()\n",
    "plt.show()"
   ]
  },
  {
   "cell_type": "code",
   "execution_count": null,
   "metadata": {},
   "outputs": [],
   "source": [
    "preds"
   ]
  }
 ],
 "metadata": {
  "kernelspec": {
   "display_name": "orbit",
   "language": "python",
   "name": "python3"
  },
  "language_info": {
   "codemirror_mode": {
    "name": "ipython",
    "version": 3
   },
   "file_extension": ".py",
   "mimetype": "text/x-python",
   "name": "python",
   "nbconvert_exporter": "python",
   "pygments_lexer": "ipython3",
   "version": "3.10.6"
  }
 },
 "nbformat": 4,
 "nbformat_minor": 2
}
